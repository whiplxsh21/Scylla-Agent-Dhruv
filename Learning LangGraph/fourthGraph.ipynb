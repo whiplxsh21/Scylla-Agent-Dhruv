{
 "cells": [
  {
   "cell_type": "markdown",
   "id": "0efa8752",
   "metadata": {},
   "source": [
    "# Looping Graph\n",
    "\n",
    "- We will implement looping logic to route the flow of data back to the nodes\n",
    "- Creating a single conditional edge to handle the decision making and control the graph flow\n",
    "\n",
    "```mermaid\n",
    "    flowchart LR\n",
    "    START --> A[Greeting Node]\n",
    "    A[Greeting Node] --> B[Random Node]\n",
    "    B[Random Node] --> END\n",
    "    B[Random Node] --LOOP!--> B[Random Node]\n",
    "```"
   ]
  },
  {
   "cell_type": "code",
   "execution_count": 37,
   "id": "3f0a8789",
   "metadata": {},
   "outputs": [],
   "source": [
    "from langgraph.graph import StateGraph, START, END\n",
    "import random\n",
    "from typing import TypedDict, List, Dict"
   ]
  },
  {
   "cell_type": "code",
   "execution_count": 38,
   "id": "1854cf25",
   "metadata": {},
   "outputs": [],
   "source": [
    "class AgentState(TypedDict):\n",
    "    name: str\n",
    "    numbers: List[int]\n",
    "    counter: int"
   ]
  },
  {
   "cell_type": "code",
   "execution_count": 39,
   "id": "9accdd17",
   "metadata": {},
   "outputs": [],
   "source": [
    "def greeting_node(state:AgentState) -> AgentState:\n",
    "    \"\"\" greets the person with a hi, just updates the name key\"\"\"\n",
    "    \n",
    "    state['name'] = \"Hi there, \" + state['name']\n",
    "    state['counter'] = 0\n",
    "\n",
    "    return state\n",
    "\n",
    "def random_node(state:AgentState) -> AgentState:\n",
    "    \"\"\"Generates a random number from 0 to 10\"\"\"\n",
    "    \n",
    "    state['numbers'].append(random.randint(0,10))\n",
    "    state['counter'] += 1\n",
    "    \n",
    "    return state"
   ]
  },
  {
   "cell_type": "markdown",
   "id": "86ea2554",
   "metadata": {},
   "source": [
    "Now, we add a conditional edge to loop"
   ]
  },
  {
   "cell_type": "code",
   "execution_count": 40,
   "id": "a5e36d91",
   "metadata": {},
   "outputs": [],
   "source": [
    "def should_continue(state:AgentState) -> AgentState:\n",
    "    \"\"\"Function decides what to do next\"\"\"\n",
    "    \n",
    "    if state['counter'] <= 5:\n",
    "        print(\"ENETERING LOOP, \"+ str(state['counter']))\n",
    "        return \"loop\" # continue looping\n",
    "    else:\n",
    "        return \"exit\" # exit the loop"
   ]
  },
  {
   "cell_type": "code",
   "execution_count": 41,
   "id": "53693576",
   "metadata": {},
   "outputs": [
    {
     "data": {
      "image/png": "[encoded data removed]",
      "text/plain": [
       "<IPython.core.display.Image object>"
      ]
     },
     "metadata": {},
     "output_type": "display_data"
    }
   ],
   "source": [
    "graph = StateGraph(AgentState)\n",
    "\n",
    "graph.add_node(\"greeting node\", greeting_node)\n",
    "graph.add_node(\"random node\", random_node)\n",
    "\n",
    "graph.add_edge(START, \"greeting node\")\n",
    "graph.add_edge(\"greeting node\", \"random node\")\n",
    "graph.add_conditional_edges(\n",
    "    \"random node\", # source node\n",
    "    should_continue, # Action\n",
    "    {\n",
    "        \"loop\": \"random node\", # self loop back to same node\n",
    "        \"exit\": END # if exit then go to next (END) node\n",
    "    }\n",
    ")\n",
    "\n",
    "app = graph.compile()\n",
    "from IPython.display import Image, display\n",
    "display(Image(app.get_graph().draw_mermaid_png()))"
   ]
  },
  {
   "cell_type": "code",
   "execution_count": 42,
   "id": "4ef1d6e6",
   "metadata": {},
   "outputs": [
    {
     "name": "stdout",
     "output_type": "stream",
     "text": [
      "ENETERING LOOP, 1\n",
      "ENETERING LOOP, 2\n",
      "ENETERING LOOP, 3\n",
      "ENETERING LOOP, 4\n",
      "ENETERING LOOP, 5\n"
     ]
    },
    {
     "data": {
      "text/plain": [
       "{'name': 'Hi there, Dhruv', 'numbers': [9, 8, 2, 9, 9, 9], 'counter': 6}"
      ]
     },
     "execution_count": 42,
     "metadata": {},
     "output_type": "execute_result"
    }
   ],
   "source": [
    "result = app.invoke({'name':\"Dhruv\", 'numbers':[], 'counter':-10})\n",
    "result"
   ]
  },
  {
   "cell_type": "markdown",
   "id": "126f5e06",
   "metadata": {},
   "source": [
    "## Task: Automatic Higher or Lower Game\n",
    "- set bounds between 1 and 20, game has to keep guessing (max guesses: 7) until its correct.\n",
    "- if its correct, game stops but if its not we keep looping till max limit of 7 is reached.\n",
    "- each time a number is guessed, the hint node will say higher or lower accordingly and the graph should account for this info and provide the next guess.\n",
    "- input parameters: {'player_name':\"Student\", 'guesses':[], 'attempts':0, 'lower_bound':1, 'upper_bound':20}\n",
    "\n",
    "```mermaid\n",
    "    flowchart LR\n",
    "    START --> A[greeting and setup node]\n",
    "    A[greeting and setup node] --> B[guessing node]\n",
    "    B[guessing node] --> C[hint node]\n",
    "    C[hint node] --continue--> B[guessing node]\n",
    "    C[hint node] --> END\n",
    "```"
   ]
  },
  {
   "cell_type": "code",
   "execution_count": 47,
   "id": "c7ff81f9",
   "metadata": {},
   "outputs": [],
   "source": [
    "class AgentState(TypedDict):\n",
    "    player_name:str\n",
    "    guesses: List[int]\n",
    "    attempts: int\n",
    "    lower_bound: int\n",
    "    upper_bound: int\n",
    "    target: int\n",
    "    hint: str"
   ]
  },
  {
   "cell_type": "code",
   "execution_count": 58,
   "id": "16190dfe",
   "metadata": {},
   "outputs": [],
   "source": [
    "def greeting_node(state:AgentState) -> AgentState:\n",
    "    \"\"\"greets the person and sets up a target between 1 and 20\"\"\"\n",
    "    \n",
    "    state['player_name'] = f\"Hi there, {state['player_name']}!\"\n",
    "    print(state['player_name'])\n",
    "    \n",
    "    state['attempts'] = 0\n",
    "    state['lower_bound'] = 1; state['upper_bound'] = 20\n",
    "    state['target'] = random.randint(state['lower_bound'],state['upper_bound'])\n",
    "    \n",
    "    return state\n",
    "\n",
    "def guessing_node(state:AgentState) -> AgentState:\n",
    "    \"\"\"machine guesses something out of the current lower and upper bounds\"\"\"\n",
    "    \n",
    "    state['guesses'].append(random.randint(state['lower_bound'],state['upper_bound']))\n",
    "    state['attempts'] += 1\n",
    "    print(\"Attempt: \" + str(state['attempts']))\n",
    "    \n",
    "    return state\n",
    "    \n",
    "def hint_node(state:AgentState) -> AgentState:\n",
    "    \"\"\"hint node tells if the target is lower or higher than the last guess and determines what to do next based on number of attempts\"\"\"\n",
    "    \n",
    "    if (state['guesses'][-1] == state['target']) and (state['attempts'] < 7):\n",
    "        state[\"hint\"] = f\"Correct! You found the number {state['target']} in {state['attempts']} attempts.\"\n",
    "        print(\"You're right! You win! The correct guess was: \" + str(state['target']))\n",
    "    elif (state['guesses'][-1] > state['target']) and (state['attempts'] < 7):\n",
    "        print(f\"Guess: {state['guesses'][-1]} is too high, try lower.\")\n",
    "        state[\"hint\"] = f\"The number {state['guesses'][-1]} is too high. Try lower!\"\n",
    "        state['upper_bound'] = min(state['upper_bound'], state['guesses'][-1]-1)\n",
    "    else:\n",
    "        print(f\"Guess: {state['guesses'][-1]} is too low, try higher.\")\n",
    "        state[\"hint\"] = f\"The number {state['guesses'][-1]} is too low. Try higher!\"\n",
    "        state['lower_bound'] = max(state['lower_bound'], state['guesses'][-1] + 1)\n",
    "\n",
    "    return state\n",
    "\n",
    "def should_continue(state:AgentState) -> str:\n",
    "    \"\"\"determines if we should contine the game or not\"\"\"\n",
    "    \n",
    "    # There are 2 end conditions - either 7 is reached or the correct number is guessed\n",
    "    \n",
    "    if state[\"guesses\"][-1] == state['target']:\n",
    "        print(f\"GAME OVER: Number found!\")\n",
    "        return \"end\"\n",
    "    elif state[\"attempts\"] >= 7:\n",
    "        print(f\"GAME OVER: Maximum attempts reached! The number was {state['target_number']}\")\n",
    "        return \"end\"\n",
    "    else:\n",
    "        print(f\"CONTINUING: {state['attempts']}/7 attempts used\")\n",
    "        return \"continue\"\n",
    "    "
   ]
  },
  {
   "cell_type": "code",
   "execution_count": 59,
   "id": "4da36c45",
   "metadata": {},
   "outputs": [
    {
     "data": {
      "image/png": "[encoded data removed]",
      "text/plain": [
       "<IPython.core.display.Image object>"
      ]
     },
     "metadata": {},
     "output_type": "display_data"
    }
   ],
   "source": [
    "graph = StateGraph(AgentState)\n",
    "\n",
    "graph.add_node(\"greeting node\", greeting_node)\n",
    "graph.add_node(\"guessing node\", guessing_node)\n",
    "graph.add_node(\"hint node\", hint_node)\n",
    "\n",
    "graph.add_edge(START, \"greeting node\")\n",
    "graph.add_edge(\"greeting node\", \"guessing node\")\n",
    "graph.add_edge(\"guessing node\", \"hint node\")\n",
    "\n",
    "graph.add_conditional_edges(\n",
    "    \"hint node\",\n",
    "    should_continue,\n",
    "    {\n",
    "        \"end\": END,\n",
    "        \"continue\": \"guessing node\"\n",
    "    }\n",
    ")\n",
    "\n",
    "app = graph.compile()\n",
    "from IPython.display import Image, display\n",
    "display(Image(app.get_graph().draw_mermaid_png()))\n"
   ]
  },
  {
   "cell_type": "code",
   "execution_count": 60,
   "id": "a96d65b4",
   "metadata": {},
   "outputs": [
    {
     "name": "stdout",
     "output_type": "stream",
     "text": [
      "Hi there, Dhruv!\n",
      "Attempt: 1\n",
      "Guess: 20 is too high, try lower.\n",
      "CONTINUING: 1/7 attempts used\n",
      "Attempt: 2\n",
      "Guess: 15 is too high, try lower.\n",
      "CONTINUING: 2/7 attempts used\n",
      "Attempt: 3\n",
      "Guess: 1 is too low, try higher.\n",
      "CONTINUING: 3/7 attempts used\n",
      "Attempt: 4\n",
      "Guess: 4 is too low, try higher.\n",
      "CONTINUING: 4/7 attempts used\n",
      "Attempt: 5\n",
      "You're right! You win! The correct guess was: 6\n",
      "GAME OVER: Number found!\n"
     ]
    }
   ],
   "source": [
    "results = app.invoke({\"player_name\": \"Dhruv\", \"guesses\": [], \"attempts\": 0, \"lower_bound\": 1, \"upper_bound\": 20})"
   ]
  },
  {
   "cell_type": "code",
   "execution_count": null,
   "id": "1a0179a7",
   "metadata": {},
   "outputs": [],
   "source": []
  }
 ],
 "metadata": {
  "kernelspec": {
   "display_name": "newvenv",
   "language": "python",
   "name": "python3"
  },
  "language_info": {
   "codemirror_mode": {
    "name": "ipython",
    "version": 3
   },
   "file_extension": ".py",
   "mimetype": "text/x-python",
   "name": "python",
   "nbconvert_exporter": "python",
   "pygments_lexer": "ipython3",
   "version": "3.11.10"
  }
 },
 "nbformat": 4,
 "nbformat_minor": 5
}
