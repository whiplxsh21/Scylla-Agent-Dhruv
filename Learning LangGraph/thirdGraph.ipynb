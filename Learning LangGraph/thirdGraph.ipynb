{
 "cells": [
  {
   "cell_type": "markdown",
   "id": "dd43fb11",
   "metadata": {},
   "source": [
    "# Sequential Graph\n",
    "We want to now learn how to create and handle multiple nodes in a graph\\\n",
    "NOTE: THIS WAS COVERED IN THE LAST PARTS OF GRAPH-1 and GRAPH-2, so skipping over this. "
   ]
  },
  {
   "cell_type": "markdown",
   "id": "eb21b7a8",
   "metadata": {},
   "source": [
    "# Conditional Graph\n",
    "### Our goal here is to learn how to switch between nodes conditionally and use the `add_conditional_edges()` method\n",
    "Objectives:\n",
    "- Implement conditional logic to route the flow of data to different nodes\n",
    "- Using START and END nodes to manage the entry and exit points properly\n",
    "- design multiple nodes to perform different operations\n",
    "- create a `router node` to handle decision making and control the flow"
   ]
  },
  {
   "cell_type": "markdown",
   "id": "ee0fa980",
   "metadata": {},
   "source": [
    "```mermaid\n",
    "    flowchart LR\n",
    "    START --> A[input taker and decision maker]\n",
    "    A[input taker and decision maker] --addition_edge--> B[Adder]\n",
    "    A[input taker and decision maker] --subtraction_edge--> C[Subtractor]\n",
    "    A[input taker and decision maker] --division_edge--> D[dividor]\n",
    "    A[input taker and decision maker] --multiplication_edge--> E[multiplier]\n",
    "    B[Adder] --> END\n",
    "    C[Subtractor] --> END\n",
    "    D[dividor] --> END\n",
    "    E[multiplier] --> END\n",
    "```"
   ]
  },
  {
   "cell_type": "code",
   "execution_count": 157,
   "id": "9723e7b7",
   "metadata": {},
   "outputs": [],
   "source": [
    "from typing import TypedDict, List\n",
    "# we import START and END to get explicitly defined start and end point nodes\n",
    "from langgraph.graph import StateGraph, START, END"
   ]
  },
  {
   "cell_type": "code",
   "execution_count": 158,
   "id": "cd81fd9b",
   "metadata": {},
   "outputs": [],
   "source": [
    "class AgentState(TypedDict):\n",
    "    operation: str\n",
    "    number1: int\n",
    "    number2: int\n",
    "    finalnumber: float"
   ]
  },
  {
   "cell_type": "code",
   "execution_count": 159,
   "id": "2283c2c9",
   "metadata": {},
   "outputs": [],
   "source": [
    "def adder(state:AgentState) -> AgentState:\n",
    "    \"\"\"adds the two numbers in the state schema\"\"\"\n",
    "    state['finalnumber'] = state['number1'] + state['number2']\n",
    "    return state\n",
    "\n",
    "def subtractor(state:AgentState) -> AgentState:\n",
    "    \"\"\"subtracts the two numbers in the state schema\"\"\"\n",
    "    state['finalnumber'] = state['number1'] - state['number2']\n",
    "    return state\n",
    "\n",
    "def multiplier(state:AgentState) -> AgentState:\n",
    "    \"\"\"multiplies the two numbers in the state schema\"\"\"\n",
    "    state['finalnumber'] = state['number1'] * state['number2']\n",
    "    return state\n",
    "\n",
    "def dividor(state:AgentState) -> AgentState:\n",
    "    \"\"\"divides the two numbers in the state schema\"\"\"\n",
    "    state['finalnumber'] = state['number1'] / state['number2']\n",
    "    return state"
   ]
  },
  {
   "cell_type": "markdown",
   "id": "b8371051",
   "metadata": {},
   "source": [
    "Now, to implement the decision maker (router) node's logic, it is important to understand what it does. Basically a bunch of if statements inside the node, but **the edge is returned instead of calling the next function, ie, you will name the addition edge and return that edge instead of the addition node.**\\\n",
    "Essentially you return the edge connecting the router node to the next node instead of returning the next node itself"
   ]
  },
  {
   "cell_type": "code",
   "execution_count": 160,
   "id": "4d40bd2b",
   "metadata": {},
   "outputs": [],
   "source": [
    "def decision_maker(state:AgentState) -> AgentState:\n",
    "    \"\"\"decides the next node of the graph\"\"\"\n",
    "    # notice that in this function, no changes to the state are being made, so we can use lambda as the passthrough function when we use graph.add_node\n",
    "    \n",
    "    if state['operation'] == \"+\":\n",
    "        return \"addition_edge\"\n",
    "    elif state['operation'] == \"-\":\n",
    "        return \"subtraction_edge\"\n",
    "    elif state['operation'] == \"*\":\n",
    "        return \"multiplication_edge\"\n",
    "    elif state['operation'] == \"/\":\n",
    "        return \"division_edge\""
   ]
  },
  {
   "cell_type": "code",
   "execution_count": 161,
   "id": "bc85d26c",
   "metadata": {},
   "outputs": [],
   "source": [
    "graph = StateGraph(AgentState)\n",
    "\n",
    "graph.add_node(\"adder\", adder)\n",
    "graph.add_node(\"subtractor\", subtractor)\n",
    "graph.add_node(\"multiplier\", multiplier)\n",
    "graph.add_node(\"dividor\", dividor)\n",
    "\n",
    "graph.add_node(\"router\", lambda state: state) # passthrough function\n",
    "\n",
    "graph.add_edge(START, \"router\") # start --> router\n",
    "\n",
    "graph.add_conditional_edges( # router --> others\n",
    "    \"router\", # source\n",
    "    decision_maker, # path\n",
    "    { # path map\n",
    "     \"addition_edge\": \"adder\",\n",
    "     \"subtraction_edge\": \"subtractor\",\n",
    "     \"multiplication_edge\": \"multiplier\",\n",
    "     \"division_edge\": \"dividor\" \n",
    "    }\n",
    ")\n",
    "\n",
    "# others --> end\n",
    "graph.add_edge(\"adder\", END)\n",
    "graph.add_edge(\"subtractor\", END)\n",
    "graph.add_edge(\"multiplier\", END)\n",
    "graph.add_edge(\"dividor\", END)\n",
    "\n",
    "app = graph.compile()"
   ]
  },
  {
   "cell_type": "code",
   "execution_count": 162,
   "id": "6713f7da",
   "metadata": {},
   "outputs": [
    {
     "data": {
      "image/png": "[encoded data removed]",
      "text/plain": [
       "<IPython.core.display.Image object>"
      ]
     },
     "metadata": {},
     "output_type": "display_data"
    }
   ],
   "source": [
    "from IPython.display import Image, display\n",
    "display(Image(app.get_graph().draw_mermaid_png()))"
   ]
  },
  {
   "cell_type": "code",
   "execution_count": 163,
   "id": "8b94b61f",
   "metadata": {},
   "outputs": [
    {
     "name": "stdout",
     "output_type": "stream",
     "text": [
      "{'operation': '+', 'number1': 2, 'number2': 5, 'finalnumber': 7}\n",
      "7\n",
      "{'operation': '-', 'number1': 2, 'number2': 5, 'finalnumber': -3}\n",
      "-3\n"
     ]
    }
   ],
   "source": [
    "add_Result = app.invoke({'operation':\"+\", 'number1':2, 'number2':5})\n",
    "print(add_Result)\n",
    "print(add_Result['finalnumber'])\n",
    "\n",
    "subtract_Result = app.invoke({'operation':\"-\", 'number1':2, 'number2':5})\n",
    "print(subtract_Result)\n",
    "print(subtract_Result['finalnumber'])"
   ]
  },
  {
   "cell_type": "markdown",
   "id": "db5705f6",
   "metadata": {},
   "source": [
    "## Task:\n",
    "Make a graph like this: (first perform some operation on two numbers, then return if the answer is more than the average of the two numbers or not)\n",
    "```mermaid\n",
    "    flowchart LR\n",
    "    START --> A[router]\n",
    "    A[router 1] --addition_edge--> B[adder node]\n",
    "    A[router 1] --subtraction_edge--> C[subtractor node]\n",
    "    B[adder node] --> D[router 2]\n",
    "    C[subtractor node] --> D[router 2]\n",
    "    D[router 2] --checker for more than avg--> E[YES]\n",
    "    D[router 2] --checker for less than avg--> F[NO]\n",
    "    E[YES] --> END\n",
    "    F[NO] --> END\n",
    "```"
   ]
  },
  {
   "cell_type": "code",
   "execution_count": 170,
   "id": "a4d58203",
   "metadata": {},
   "outputs": [],
   "source": [
    "class AgentState(TypedDict):\n",
    "    operator: str\n",
    "    num1: int\n",
    "    num2: int\n",
    "    average: float\n",
    "    result: int\n",
    "    decision: str"
   ]
  },
  {
   "cell_type": "code",
   "execution_count": 171,
   "id": "2962e675",
   "metadata": {},
   "outputs": [],
   "source": [
    "def adder(state:AgentState) -> AgentState:\n",
    "    \"\"\"adds num1 and num2\"\"\"\n",
    "    state['result'] = state['num1'] + state['num2']\n",
    "    return state\n",
    "\n",
    "def subtractor(state:AgentState) -> AgentState:\n",
    "    \"\"\"subtracts num1 and num2\"\"\"\n",
    "    state['result'] = state['num1'] - state['num2']\n",
    "    return state\n",
    "    \n",
    "def router_1(state:AgentState) -> AgentState:\n",
    "    \"\"\"decides to add or subtract them\"\"\"\n",
    "    if state['operator'] == \"+\":\n",
    "        return \"addition_edge\"\n",
    "    elif state['operator'] == \"-\":\n",
    "        return \"subtraction_edge\"\n",
    "    \n",
    "def yesprinter(state:AgentState) -> AgentState:\n",
    "    \"\"\"prints yes if the decision is yes\"\"\"\n",
    "    print(\"Looks like the result is greater than the average, which is: \" + str(state['average']))\n",
    "    state['decision'] = \"YES\"\n",
    "    return state\n",
    "\n",
    "def noprinter(state:AgentState) -> AgentState:\n",
    "    \"\"\"prints no if the decision is no\"\"\"\n",
    "    print(\"Looks like the result is less than the average, which is: \" + str(state['average']))\n",
    "    state['decision'] = \"NO\"\n",
    "    return state\n",
    "\n",
    "def avg_calc(state:AgentState) -> AgentState:\n",
    "    state['average'] = (state['num1'] + state['num2'])/2\n",
    "    return state\n",
    "\n",
    "\n",
    "def router_2(state:AgentState) -> AgentState:\n",
    "    \"\"\"calculates the average and compares it with result\"\"\"\n",
    "    if state['average'] < state['result']:\n",
    "        return \"checker for more than avg\"\n",
    "    elif state['average'] >= state['result']:\n",
    "        return \"checker for less than avg\"\n",
    "    "
   ]
  },
  {
   "cell_type": "code",
   "execution_count": 172,
   "id": "d512dda6",
   "metadata": {},
   "outputs": [
    {
     "data": {
      "image/png": "[encoded data removed]",
      "text/plain": [
       "<IPython.core.display.Image object>"
      ]
     },
     "metadata": {},
     "output_type": "display_data"
    }
   ],
   "source": [
    "graph = StateGraph(AgentState)\n",
    "\n",
    "graph.add_node(\"adder\", adder)\n",
    "graph.add_node(\"subtractor\", subtractor)\n",
    "graph.add_node(\"average calculator\", avg_calc)\n",
    "graph.add_node(\"yesprinter\", yesprinter)\n",
    "graph.add_node(\"noprinter\", noprinter)\n",
    "\n",
    "graph.add_node(\"Router 1\", lambda state: state) #passthrough function\n",
    "graph.add_node(\"Router 2\", lambda state: state)\n",
    "\n",
    "\"\"\"another way we could do this is:\n",
    "def passthrough(state: AgentState) -> AgentState:\n",
    "    return state\n",
    "    \n",
    "graph.add_node(\"Router 1\", passthrough)\n",
    "\n",
    "so basically a lambda function just makes it easy\n",
    "\"\"\"\n",
    "\n",
    "graph.add_edge(START, \"Router 1\") # start --> router 1\n",
    "graph.add_conditional_edges( # router 1 --> add/sub\n",
    "    \"Router 1\",\n",
    "    router_1,\n",
    "    {\n",
    "        \"addition_edge\": \"adder\",\n",
    "        \"subtraction_edge\": \"subtractor\"\n",
    "    }\n",
    ")\n",
    "# add/sub --> router 2\n",
    "graph.add_edge(\"adder\",\"average calculator\")\n",
    "graph.add_edge(\"subtractor\", \"average calculator\")\n",
    "graph.add_edge(\"average calculator\", \"Router 2\")\n",
    "\n",
    "\n",
    "graph.add_conditional_edges( # router 2 --> yes/no\n",
    "    \"Router 2\",\n",
    "    router_2,\n",
    "    {\n",
    "        \"checker for more than avg\": \"yesprinter\",\n",
    "        \"checker for less than avg\": \"noprinter\"\n",
    "    }\n",
    ")\n",
    "\n",
    "# yes/no --> end\n",
    "graph.add_edge(\"yesprinter\",END)\n",
    "graph.add_edge(\"noprinter\", END)\n",
    "\n",
    "app = graph.compile()\n",
    "from IPython.display import Image, display\n",
    "display(Image(app.get_graph().draw_mermaid_png()))"
   ]
  },
  {
   "cell_type": "code",
   "execution_count": 175,
   "id": "ab6f0799",
   "metadata": {},
   "outputs": [
    {
     "name": "stdout",
     "output_type": "stream",
     "text": [
      "Looks like the result is greater than the average, which is: 7.5\n",
      "YES\n",
      "\n",
      "{'operator': '+', 'num1': 10, 'num2': 5, 'average': 7.5, 'result': 15, 'decision': 'YES'}\n"
     ]
    }
   ],
   "source": [
    "res1 = app.invoke({'operator':\"+\", 'num1':10, 'num2':5})\n",
    "print(res1['decision'])\n",
    "print()\n",
    "print(res1)"
   ]
  },
  {
   "cell_type": "code",
   "execution_count": null,
   "id": "f4384639",
   "metadata": {},
   "outputs": [],
   "source": []
  },
  {
   "cell_type": "code",
   "execution_count": null,
   "id": "5d87f366",
   "metadata": {},
   "outputs": [],
   "source": []
  },
  {
   "cell_type": "code",
   "execution_count": null,
   "id": "88740854",
   "metadata": {},
   "outputs": [],
   "source": []
  }
 ],
 "metadata": {
  "kernelspec": {
   "display_name": "newvenv",
   "language": "python",
   "name": "python3"
  },
  "language_info": {
   "codemirror_mode": {
    "name": "ipython",
    "version": 3
   },
   "file_extension": ".py",
   "mimetype": "text/x-python",
   "name": "python",
   "nbconvert_exporter": "python",
   "pygments_lexer": "ipython3",
   "version": "3.11.10"
  }
 },
 "nbformat": 4,
 "nbformat_minor": 5
}
