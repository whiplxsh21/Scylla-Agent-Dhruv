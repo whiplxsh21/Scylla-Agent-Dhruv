{
 "cells": [
  {
   "cell_type": "markdown",
   "id": "7fe3b031",
   "metadata": {},
   "source": [
    "# Graph with multiple inputs \n",
    "### We're going to learn how to handle multiple inputs in the form of a list\n",
    "- Define a slightly more complex AgentState\n",
    "- Create a processing node that performs operations based on a list given to it.\n",
    "- Set up a LangGraph that processes and outputs the computed results\n",
    "- Invoke the graph with structured inputs and retrieve outputs"
   ]
  },
  {
   "cell_type": "code",
   "execution_count": 2,
   "id": "49fbb7f1",
   "metadata": {},
   "outputs": [],
   "source": [
    "from typing import Dict, TypedDict, List # import List for the List datastructure\n",
    "from langgraph.graph import StateGraph"
   ]
  },
  {
   "cell_type": "code",
   "execution_count": 3,
   "id": "2ac1b319",
   "metadata": {},
   "outputs": [],
   "source": [
    "class AgentState(TypedDict):\n",
    "    values: List[int]\n",
    "    name: str\n",
    "    result: str"
   ]
  },
  {
   "cell_type": "markdown",
   "id": "2d2e1acb",
   "metadata": {},
   "source": [
    "Building a processing node:"
   ]
  },
  {
   "cell_type": "code",
   "execution_count": 18,
   "id": "9307adf8",
   "metadata": {},
   "outputs": [],
   "source": [
    "def process_values(state: AgentState) -> AgentState:\n",
    "    \"\"\"This node multiple different inputs and returns the sum of values and also concatenates the name\"\"\"\n",
    "    print(state) # lets try printing the state before the action is performed\n",
    "    state['result'] = \"Hi, \" + state['name'] + \" your sum is: \" + str(sum(state['values']))\n",
    "    print(state) # then print the state after its updated\n",
    "    return state"
   ]
  },
  {
   "cell_type": "markdown",
   "id": "a58f17c3",
   "metadata": {},
   "source": [
    "Initialise and compile the StateGraph"
   ]
  },
  {
   "cell_type": "code",
   "execution_count": 19,
   "id": "7a8d0bc8",
   "metadata": {},
   "outputs": [],
   "source": [
    "graph = StateGraph(AgentState)\n",
    "\n",
    "graph.add_node(\"processing node\", process_values)\n",
    "graph.set_entry_point(\"processing node\")\n",
    "graph.set_finish_point(\"processing node\")\n",
    "\n",
    "app = graph.compile()"
   ]
  },
  {
   "cell_type": "code",
   "execution_count": 20,
   "id": "7de96534",
   "metadata": {},
   "outputs": [
    {
     "data": {
      "image/png": "[encoded data removed]",
      "text/plain": [
       "<IPython.core.display.Image object>"
      ]
     },
     "metadata": {},
     "output_type": "display_data"
    }
   ],
   "source": [
    "from IPython.display import Image, display\n",
    "display(Image(app.get_graph().draw_mermaid_png()))"
   ]
  },
  {
   "cell_type": "markdown",
   "id": "c51fc4ac",
   "metadata": {},
   "source": [
    "Now test the graph (invoke it)"
   ]
  },
  {
   "cell_type": "code",
   "execution_count": 21,
   "id": "95c5ad26",
   "metadata": {},
   "outputs": [
    {
     "name": "stdout",
     "output_type": "stream",
     "text": [
      "{'values': [1, 2, 3, 4, 5], 'name': 'Dhruv'}\n",
      "{'values': [1, 2, 3, 4, 5], 'name': 'Dhruv', 'result': 'Hi, Dhruv your sum is: 15'}\n"
     ]
    },
    {
     "data": {
      "text/plain": [
       "'Hi, Dhruv your sum is: 15'"
      ]
     },
     "execution_count": 21,
     "metadata": {},
     "output_type": "execute_result"
    }
   ],
   "source": [
    "answer = app.invoke({'values':[1,2,3,4,5], 'name': \"Dhruv\"})\n",
    "answer['result']"
   ]
  },
  {
   "cell_type": "markdown",
   "id": "58ccb2ff",
   "metadata": {},
   "source": [
    "Task: Let's add another node, make a new graph of this format:\n",
    "```mermaid\n",
    "    flowchart LR\n",
    "    A[start] --> B[node that takes in multiple inputs and concatenates with name]\n",
    "    B[node that takes in multiple inputs and concatenates with name] --> C[node that takes in the operation needed and performs it in the list]\n",
    "    C[node that takes in the operation needed and performs it in the list] --> D[end]\n",
    "```"
   ]
  },
  {
   "cell_type": "code",
   "execution_count": 31,
   "id": "9f5793db",
   "metadata": {},
   "outputs": [],
   "source": [
    "class AgentState(TypedDict):\n",
    "    values: List[int]\n",
    "    operation: str\n",
    "    name: str\n",
    "    result: str\n",
    "\n",
    "\n",
    "def take_in_values(state:AgentState) -> AgentState:\n",
    "    \"\"\"this node takes in the values required and also concatenates a statement with the name\"\"\"\n",
    "    state['result'] = f\"Hi, {state['name']}, your values are: {state['values']}.\"\n",
    "    print(state['result'])\n",
    "    return state\n",
    "\n",
    "def perform_operation(state: AgentState) -> AgentState:\n",
    "    \"\"\"this node performs the operation on the list and updates the final result\"\"\"\n",
    "\n",
    "    if (state['operation']) == \"+\":\n",
    "        operated = 0\n",
    "        for element in state['values']:\n",
    "            operated += element\n",
    "    elif (state['operation']) == \"*\":\n",
    "        operated = 1\n",
    "        for element in state['values']:\n",
    "            operated *= element\n",
    "    \n",
    "    state['result'] = f\"Hi, {state['name']}, your result after the operation is: {operated}.\"\n",
    "    return state\n",
    "\n",
    "graph2 = StateGraph(AgentState)\n",
    "\n",
    "graph2.add_node(\"value taker node\", take_in_values)\n",
    "graph2.add_node(\"operator node\", perform_operation)\n",
    "\n",
    "graph2.set_entry_point(\"value taker node\")\n",
    "graph2.add_edge(\"value taker node\", \"operator node\")\n",
    "graph2.set_finish_point(\"operator node\")\n",
    "\n",
    "app2 = graph2.compile()"
   ]
  },
  {
   "cell_type": "code",
   "execution_count": 32,
   "id": "5c690be4",
   "metadata": {},
   "outputs": [
    {
     "data": {
      "image/png": "[encoded data removed]",
      "text/plain": [
       "<IPython.core.display.Image object>"
      ]
     },
     "metadata": {},
     "output_type": "display_data"
    }
   ],
   "source": [
    "from IPython.display import Image, display\n",
    "display(Image(app2.get_graph().draw_mermaid_png()))"
   ]
  },
  {
   "cell_type": "code",
   "execution_count": 34,
   "id": "600921f4",
   "metadata": {},
   "outputs": [
    {
     "name": "stdout",
     "output_type": "stream",
     "text": [
      "Hi, Dhruv, your values are: [1, 2, 3].\n"
     ]
    },
    {
     "data": {
      "text/plain": [
       "'Hi, Dhruv, your result after the operation is: 6.'"
      ]
     },
     "execution_count": 34,
     "metadata": {},
     "output_type": "execute_result"
    }
   ],
   "source": [
    "answer2 = app2.invoke({'values': [1,2,3],'operation':\"*\",'name':\"Dhruv\"})\n",
    "answer2['result']"
   ]
  }
 ],
 "metadata": {
  "kernelspec": {
   "display_name": "newvenv",
   "language": "python",
   "name": "python3"
  },
  "language_info": {
   "codemirror_mode": {
    "name": "ipython",
    "version": 3
   },
   "file_extension": ".py",
   "mimetype": "text/x-python",
   "name": "python",
   "nbconvert_exporter": "python",
   "pygments_lexer": "ipython3",
   "version": "3.11.10"
  }
 },
 "nbformat": 4,
 "nbformat_minor": 5
}
