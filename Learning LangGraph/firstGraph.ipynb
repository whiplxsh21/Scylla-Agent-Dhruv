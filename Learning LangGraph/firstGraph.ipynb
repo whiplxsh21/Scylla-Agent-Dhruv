{
 "cells": [
  {
   "cell_type": "markdown",
   "id": "d4353010",
   "metadata": {},
   "source": [
    "# Hello World Agent\n",
    "### Making a Simple Hello World Agent Using LangGraph\n",
    "\n",
    "We'll be making a simple graph with just a start, a middle node that does something, and then the end\n",
    "```mermaid\n",
    "    flowchart LR\n",
    "    Start --> Node --> End\n",
    "```"
   ]
  },
  {
   "cell_type": "code",
   "execution_count": 61,
   "id": "e5fba807",
   "metadata": {},
   "outputs": [],
   "source": [
    "from typing import Dict, TypedDict\n",
    "from langgraph.graph import StateGraph"
   ]
  },
  {
   "cell_type": "markdown",
   "id": "708bb3b4",
   "metadata": {},
   "source": [
    "### AgentState\n",
    "We'll create a shared data structure that keeps track of the information we require as the application runs."
   ]
  },
  {
   "cell_type": "code",
   "execution_count": 62,
   "id": "bad3a9ec",
   "metadata": {},
   "outputs": [],
   "source": [
    "class AgentState(TypedDict): # this is the state schema\n",
    "    name: str\n",
    "    greeting: str\n",
    "    compliment: str"
   ]
  },
  {
   "cell_type": "markdown",
   "id": "ba09e8b2",
   "metadata": {},
   "source": [
    "### Node\n",
    "Just a simple python function that takes the current state as an input and outputs the current state."
   ]
  },
  {
   "cell_type": "code",
   "execution_count": 63,
   "id": "08722687",
   "metadata": {},
   "outputs": [],
   "source": [
    "def greeting_node(state: AgentState) -> AgentState:\n",
    "    \"\"\"Just the first node that adds a greeting message to the current state.\"\"\"\n",
    "    state['greeting'] = \"Hey \" + state['name'] + \" how's it going?\"\n",
    "    return state"
   ]
  },
  {
   "cell_type": "markdown",
   "id": "6db5ca5b",
   "metadata": {},
   "source": [
    "## Creating the actual Graph\n",
    "make a variable that stores the StateGraph, pass in the state schema defined above into StateGraph\n",
    "- To add a node to the graph, use `graph.add_node()` and add the nodefunction (action) defined above."
   ]
  },
  {
   "cell_type": "code",
   "execution_count": 64,
   "id": "f09e7e36",
   "metadata": {},
   "outputs": [],
   "source": [
    "graph = StateGraph(AgentState)\n",
    "graph.add_node(\"greeter\", greeting_node)\n",
    "\n",
    "# you already have the start and end, and the greeter node defined in the graph, so now just connect the greeter node to the start and end node.\n",
    "graph.set_entry_point(\"greeter\")\n",
    "graph.set_finish_point(\"greeter\")\n",
    "\n",
    "# compile the graph at the end, store it in an application variable.\n",
    "app = graph.compile()"
   ]
  },
  {
   "cell_type": "code",
   "execution_count": 65,
   "id": "aa1acbd0",
   "metadata": {},
   "outputs": [
    {
     "data": {
      "image/png": "[encoded data removed]",
      "text/plain": [
       "<IPython.core.display.Image object>"
      ]
     },
     "metadata": {},
     "output_type": "display_data"
    }
   ],
   "source": [
    "from IPython.display import Image, display\n",
    "display(Image(app.get_graph().draw_mermaid_png()))"
   ]
  },
  {
   "cell_type": "markdown",
   "id": "a4a226a5",
   "metadata": {},
   "source": [
    "Running the graph and getting the result"
   ]
  },
  {
   "cell_type": "code",
   "execution_count": 66,
   "id": "79f6b966",
   "metadata": {},
   "outputs": [
    {
     "data": {
      "text/plain": [
       "\"Hey Dhruv how's it going?\""
      ]
     },
     "execution_count": 66,
     "metadata": {},
     "output_type": "execute_result"
    }
   ],
   "source": [
    "result = app.invoke({\"name\": \"Dhruv\"})\n",
    "result['greeting']"
   ]
  },
  {
   "cell_type": "markdown",
   "id": "e0ba9a5a",
   "metadata": {},
   "source": [
    "## Let's make a simple graph with two nodes now.\n",
    "\n",
    "```mermaid\n",
    "    flowchart LR\n",
    "    A[Start] --> B[Give a greeting]\n",
    "    B[Give a greeting] --> C[Give a compliment]\n",
    "    C[Give a compliment] --> D[End]\n",
    "```"
   ]
  },
  {
   "cell_type": "markdown",
   "id": "db9696e2",
   "metadata": {},
   "source": [
    "Adding another node, that compliments the person"
   ]
  },
  {
   "cell_type": "code",
   "execution_count": 67,
   "id": "4c10aa9c",
   "metadata": {},
   "outputs": [],
   "source": [
    "def compliment_node(state: AgentState) -> AgentState:\n",
    "    \"\"\" Second node that adds a compliment to the person\"\"\"\n",
    "    state['compliment'] = \"You're doing great,\" + state['name'] + \"!\"\n",
    "    return state"
   ]
  },
  {
   "cell_type": "markdown",
   "id": "2bd8eade",
   "metadata": {},
   "source": [
    "Creating the graph and compiling it again"
   ]
  },
  {
   "cell_type": "code",
   "execution_count": 72,
   "id": "2f6e886a",
   "metadata": {},
   "outputs": [],
   "source": [
    "graph2 = StateGraph(AgentState)\n",
    "graph2.add_node(\"greeter node\", greeting_node)\n",
    "graph2.add_node(\"complimenter node\", compliment_node)\n",
    "\n",
    "graph2.set_entry_point(\"greeter node\")\n",
    "graph2.add_edge(\"greeter node\", \"complimenter node\") # more on how to add edges in later notebooks\n",
    "graph2.set_finish_point(\"complimenter node\")\n",
    "\n",
    "app2 = graph2.compile()"
   ]
  },
  {
   "cell_type": "code",
   "execution_count": 69,
   "id": "9332e21d",
   "metadata": {},
   "outputs": [
    {
     "data": {
      "image/png": "[encoded data removed]",
      "text/plain": [
       "<IPython.core.display.Image object>"
      ]
     },
     "metadata": {},
     "output_type": "display_data"
    }
   ],
   "source": [
    "display(Image(app2.get_graph().draw_mermaid_png()))"
   ]
  },
  {
   "cell_type": "code",
   "execution_count": 70,
   "id": "0bc7bf35",
   "metadata": {},
   "outputs": [
    {
     "data": {
      "text/plain": [
       "\"Hey Dhruv how's it going?\""
      ]
     },
     "execution_count": 70,
     "metadata": {},
     "output_type": "execute_result"
    }
   ],
   "source": [
    "result = app2.invoke({'name':\"Dhruv\"})\n",
    "result['greeting']"
   ]
  },
  {
   "cell_type": "code",
   "execution_count": 71,
   "id": "c6b49ff7",
   "metadata": {},
   "outputs": [
    {
     "data": {
      "text/plain": [
       "\"You're doing great,Dhruv!\""
      ]
     },
     "execution_count": 71,
     "metadata": {},
     "output_type": "execute_result"
    }
   ],
   "source": [
    "result['compliment']"
   ]
  }
 ],
 "metadata": {
  "kernelspec": {
   "display_name": "newvenv",
   "language": "python",
   "name": "python3"
  },
  "language_info": {
   "codemirror_mode": {
    "name": "ipython",
    "version": 3
   },
   "file_extension": ".py",
   "mimetype": "text/x-python",
   "name": "python",
   "nbconvert_exporter": "python",
   "pygments_lexer": "ipython3",
   "version": "3.11.10"
  }
 },
 "nbformat": 4,
 "nbformat_minor": 5
}
